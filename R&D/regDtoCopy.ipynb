{
 "cells": [
  {
   "cell_type": "code",
   "execution_count": 35,
   "id": "1f714ba4-ad97-4f47-acec-280fbd077ead",
   "metadata": {},
   "outputs": [],
   "source": [
    "import WH_Utils\n",
    "import json"
   ]
  },
  {
   "cell_type": "code",
   "execution_count": 48,
   "id": "e874fcde-81fd-458d-8587-04c8f3fd2cab",
   "metadata": {},
   "outputs": [],
   "source": [
    "with open('R&D/example_regd1.json', 'w+') as f:\n",
    "    #data = json.load(f)\n",
    "    json.dump(d, f)"
   ]
  },
  {
   "cell_type": "code",
   "execution_count": 39,
   "id": "65bd27ef-0875-4625-a278-d1393f9ed4c1",
   "metadata": {},
   "outputs": [
    {
     "data": {
      "text/plain": [
       "['/Users/mcclainthiel/Desktop/WH/WH_Utils2',\n",
       " '/usr/local/Cellar/python@3.9/3.9.8/Frameworks/Python.framework/Versions/3.9/lib/python39.zip',\n",
       " '/usr/local/Cellar/python@3.9/3.9.8/Frameworks/Python.framework/Versions/3.9/lib/python3.9',\n",
       " '/usr/local/Cellar/python@3.9/3.9.8/Frameworks/Python.framework/Versions/3.9/lib/python3.9/lib-dynload',\n",
       " '',\n",
       " '/Users/mcclainthiel/Desktop/WH/WH_Utils2/test_env/lib/python3.9/site-packages',\n",
       " '/Users/mcclainthiel/Desktop/WH/WH_Utils2',\n",
       " '/Users/mcclainthiel/Desktop/WH/WH_Utils2/test_env/lib/python3.9/site-packages/IPython/extensions',\n",
       " '/Users/mcclainthiel/.ipython']"
      ]
     },
     "execution_count": 39,
     "metadata": {},
     "output_type": "execute_result"
    }
   ],
   "source": [
    "import sys\n",
    "sys.path"
   ]
  },
  {
   "cell_type": "code",
   "execution_count": 50,
   "id": "542d6938-e2a7-46c6-a86d-16710c330533",
   "metadata": {},
   "outputs": [
    {
     "data": {
      "text/plain": [
       "{'previousNames': 'None',\n",
       " 'CIK': '0001553193',\n",
       " 'EntityType': 'Corporation',\n",
       " 'Name of Issuer': 'TeleSign Holdings, Inc.',\n",
       " 'Jurisdiction of Incorporation/Organization': 'DELAWARE',\n",
       " 'Year of Incorporation/Organization': 'Within Last Five Years (Specify Year)'}"
      ]
     },
     "execution_count": 50,
     "metadata": {},
     "output_type": "execute_result"
    }
   ],
   "source": [
    "d['Issuer']"
   ]
  },
  {
   "cell_type": "code",
   "execution_count": null,
   "id": "c6d65edc-401e-4ec0-9994-956b08ed8989",
   "metadata": {},
   "outputs": [],
   "source": [
    "def extract_info(json: dict):\n",
    "    \"\"\"\n",
    "    Extracts usful info from a reg D json from a raise\n",
    "    \"\"\"\n",
    "    company_name = json['Issuer']['Name of Issuer']\n",
    "    founded = json['Issuer']['Year of Incorporation/Organization']\n",
    "    \n",
    "    "
   ]
  },
  {
   "cell_type": "code",
   "execution_count": 51,
   "id": "0212bec9-bcf2-442a-9bac-e262e01b710a",
   "metadata": {},
   "outputs": [
    {
     "data": {
      "text/plain": [
       "{'Issuer': {'previousNames': 'None',\n",
       "  'CIK': '0001553193',\n",
       "  'EntityType': 'Corporation',\n",
       "  'Name of Issuer': 'TeleSign Holdings, Inc.',\n",
       "  'Jurisdiction of Incorporation/Organization': 'DELAWARE',\n",
       "  'Year of Incorporation/Organization': 'Within Last Five Years (Specify Year)'},\n",
       " 'Contact': {'Name of Issuer': 'TeleSign Holdings, Inc.',\n",
       "  'Street Address 1': '4136 DEL REY AVENUE',\n",
       "  'Street Address 2': '',\n",
       "  'City': 'MARINA DEL REY',\n",
       "  'State/Province/Country': 'CALIFORNIA',\n",
       "  'ZIP/PostalCode': '90292',\n",
       "  'Phone Number of Issuer': '(310) 902-1211'},\n",
       " 'Persons': [{'Last Name': 'Jillings',\n",
       "   'First Name': 'Steve',\n",
       "   'Middle Name': '',\n",
       "   'Street Address 1': '4136 Del Rey Avenue',\n",
       "   'Street Address 2': '',\n",
       "   'City': 'Marina Del Rey',\n",
       "   'State/Province/Country': 'CALIFORNIA',\n",
       "   'ZIP/PostalCode': '90292'},\n",
       "  {'Last Name': 'Hardy',\n",
       "   'First Name': 'Matthew',\n",
       "   'Middle Name': '',\n",
       "   'Street Address 1': '4136 Del Rey Avenue',\n",
       "   'Street Address 2': '',\n",
       "   'City': 'Marina Del Rey',\n",
       "   'State/Province/Country': 'CALIFORNIA',\n",
       "   'ZIP/PostalCode': '90292'},\n",
       "  {'Last Name': 'Gonen',\n",
       "   'First Name': 'Shlomo',\n",
       "   'Middle Name': '',\n",
       "   'Street Address 1': '4136 Del Rey Avenue',\n",
       "   'Street Address 2': '',\n",
       "   'City': 'Marina Del Rey',\n",
       "   'State/Province/Country': 'CALIFORNIA',\n",
       "   'ZIP/PostalCode': '90292'},\n",
       "  {'Last Name': 'Goldfarb',\n",
       "   'First Name': 'Greg',\n",
       "   'Middle Name': '',\n",
       "   'Street Address 1': '4136 Del Rey Avenue',\n",
       "   'Street Address 2': '',\n",
       "   'City': 'Marina Del Rey',\n",
       "   'State/Province/Country': 'CALIFORNIA',\n",
       "   'ZIP/PostalCode': '90292'},\n",
       "  {'Last Name': 'Gonen',\n",
       "   'First Name': 'David',\n",
       "   'Middle Name': '',\n",
       "   'Street Address 1': '4136 Del Rey Avenue',\n",
       "   'Street Address 2': '',\n",
       "   'City': 'Marina Del Rey',\n",
       "   'State/Province/Country': 'CALIFORNIA',\n",
       "   'ZIP/PostalCode': '90292'},\n",
       "  {'Last Name': 'Watzinger',\n",
       "   'First Name': 'Gerhard',\n",
       "   'Middle Name': '',\n",
       "   'Street Address 1': '4136 Del Rey Avenue',\n",
       "   'Street Address 2': '',\n",
       "   'City': 'Marina DelRey',\n",
       "   'State/Province/Country': 'CALIFORNIA',\n",
       "   'ZIP/PostalCode': '90292'},\n",
       "  {'Last Name': 'Murray',\n",
       "   'First Name': 'Robin',\n",
       "   'Middle Name': '',\n",
       "   'Street Address 1': '4136 Del Rey Avenue',\n",
       "   'Street Address 2': '',\n",
       "   'City': 'Marina Del Rey',\n",
       "   'State/Province/Country': 'CALIFORNIA',\n",
       "   'ZIP/PostalCode': '90292'}],\n",
       " 'Industry': 'Other Technology',\n",
       " 'Size': 'Decline to Disclose',\n",
       " 'Exemptions': ['Rule 506(b)'],\n",
       " 'FilingType': 'Amendment',\n",
       " 'LongerThanAYear': False,\n",
       " 'TypeOfSecurities': ['Equity'],\n",
       " 'BusinessCombination': False,\n",
       " 'MinimumInvestment': '$0 USD',\n",
       " 'SalesCompensation': [],\n",
       " 'OfferingAndSalesAmount': {'Total Offering Amount': '$49,400,004',\n",
       "  'Total Amount Sold': '$49,400,004',\n",
       "  'Total Remaining to be Sold': '$0',\n",
       "  'Date': '2014-07-03'},\n",
       " 'Date': '2014-07-03'}"
      ]
     },
     "execution_count": 51,
     "metadata": {},
     "output_type": "execute_result"
    }
   ],
   "source": [
    "d"
   ]
  },
  {
   "cell_type": "code",
   "execution_count": null,
   "id": "e579c81d-e0c5-47e6-ba00-22b9dd7fde54",
   "metadata": {},
   "outputs": [],
   "source": []
  }
 ],
 "metadata": {
  "kernelspec": {
   "display_name": "wh-utils",
   "language": "python",
   "name": "wh-utils"
  },
  "language_info": {
   "codemirror_mode": {
    "name": "ipython",
    "version": 3
   },
   "file_extension": ".py",
   "mimetype": "text/x-python",
   "name": "python",
   "nbconvert_exporter": "python",
   "pygments_lexer": "ipython3",
   "version": "3.9.8"
  }
 },
 "nbformat": 4,
 "nbformat_minor": 5
}
