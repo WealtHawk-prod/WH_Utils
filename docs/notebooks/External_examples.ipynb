{
 "cells": [
  {
   "cell_type": "markdown",
   "id": "9477d45a-3b76-4b99-9151-760f86dabbb7",
   "metadata": {},
   "source": [
    "# External Module Example\n",
    "\n",
    "This module (`WH_Utils.External`) is designed to make dealing with our external services a bit easier. So far we have 2 main external APIs to work with:\n",
    "- coresignal: provides all our linkedin data\n",
    "- typeform: used for data ingress\n",
    "\n",
    "We also plan to bring on some others such as a contact info API ect.\n",
    "\n",
    "\n",
    "## Coresignal Examples"
   ]
  },
  {
   "cell_type": "code",
   "execution_count": 1,
   "id": "5c8b2fed-0fe6-4e50-bc6c-71e54a54bc9c",
   "metadata": {},
   "outputs": [],
   "source": [
    "import WH_Utils.External as ext"
   ]
  },
  {
   "cell_type": "code",
   "execution_count": null,
   "id": "c863e256-88f4-4b5f-bc1f-be77be4bd4f4",
   "metadata": {},
   "outputs": [],
   "source": []
  }
 ],
 "metadata": {
  "kernelspec": {
   "display_name": "wh-utils",
   "language": "python",
   "name": "wh-utils"
  },
  "language_info": {
   "codemirror_mode": {
    "name": "ipython",
    "version": 3
   },
   "file_extension": ".py",
   "mimetype": "text/x-python",
   "name": "python",
   "nbconvert_exporter": "python",
   "pygments_lexer": "ipython3",
   "version": "3.9.8"
  }
 },
 "nbformat": 4,
 "nbformat_minor": 5
}
